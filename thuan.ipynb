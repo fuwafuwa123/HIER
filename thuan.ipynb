{
 "cells": [
  {
   "cell_type": "code",
   "execution_count": 2,
   "id": "bd309f5a",
   "metadata": {},
   "outputs": [
    {
     "name": "stdout",
     "output_type": "stream",
     "text": [
      "Tue Jul 22 14:12:27 2025       \n",
      "+-----------------------------------------------------------------------------------------+\n",
      "| NVIDIA-SMI 560.35.03              Driver Version: 560.35.03      CUDA Version: 12.6     |\n",
      "|-----------------------------------------+------------------------+----------------------+\n",
      "| GPU  Name                 Persistence-M | Bus-Id          Disp.A | Volatile Uncorr. ECC |\n",
      "| Fan  Temp   Perf          Pwr:Usage/Cap |           Memory-Usage | GPU-Util  Compute M. |\n",
      "|                                         |                        |               MIG M. |\n",
      "|=========================================+========================+======================|\n",
      "|   0  Tesla T4                       Off |   00000000:00:04.0 Off |                    0 |\n",
      "| N/A   46C    P8              9W /   70W |       1MiB /  15360MiB |      0%      Default |\n",
      "|                                         |                        |                  N/A |\n",
      "+-----------------------------------------+------------------------+----------------------+\n",
      "|   1  Tesla T4                       Off |   00000000:00:05.0 Off |                    0 |\n",
      "| N/A   49C    P8             10W /   70W |       1MiB /  15360MiB |      0%      Default |\n",
      "|                                         |                        |                  N/A |\n",
      "+-----------------------------------------+------------------------+----------------------+\n",
      "                                                                                         \n",
      "+-----------------------------------------------------------------------------------------+\n",
      "| Processes:                                                                              |\n",
      "|  GPU   GI   CI        PID   Type   Process name                              GPU Memory |\n",
      "|        ID   ID                                                               Usage      |\n",
      "|=========================================================================================|\n",
      "|  No running processes found                                                             |\n",
      "+-----------------------------------------------------------------------------------------+\n"
     ]
    }
   ],
   "source": [
    "!nvidia-smi"
   ]
  },
  {
   "cell_type": "code",
   "execution_count": 8,
   "id": "38a595c7",
   "metadata": {},
   "outputs": [
    {
     "name": "stdout",
     "output_type": "stream",
     "text": [
      "fatal: destination path 'HIER' already exists and is not an empty directory.\n"
     ]
    }
   ],
   "source": [
    "!git clone https://github.com/fuwafuwa123/HIER.git"
   ]
  },
  {
   "cell_type": "code",
   "execution_count": null,
   "id": "eb338b56",
   "metadata": {
    "vscode": {
     "languageId": "shellscript"
    }
   },
   "outputs": [
    {
     "name": "stdout",
     "output_type": "stream",
     "text": [
      "/kaggle/working/HIER\n",
      "\u001b[34m\u001b[1mwandb\u001b[0m: Currently logged in as: \u001b[33mnguyenthanhung1912\u001b[0m (\u001b[33mnguyenthanhung1912-international-university-vnu-hcmc\u001b[0m) to \u001b[32mhttps://api.wandb.ai\u001b[0m. Use \u001b[1m`wandb login --relogin`\u001b[0m to force relogin\n",
      "\u001b[34m\u001b[1mwandb\u001b[0m: Tracking run with wandb version 0.20.1\n",
      "\u001b[34m\u001b[1mwandb\u001b[0m: Run data is saved locally in \u001b[35m\u001b[1m/kaggle/working/HIER/wandb/run-20250722_141508-ckjkc2ky\u001b[0m\n",
      "\u001b[34m\u001b[1mwandb\u001b[0m: Run \u001b[1m`wandb offline`\u001b[0m to turn off syncing.\n",
      "\u001b[34m\u001b[1mwandb\u001b[0m: Syncing run \u001b[33mFood101_resnet50_\u001b[0m\n",
      "\u001b[34m\u001b[1mwandb\u001b[0m: ⭐️ View project at \u001b[34m\u001b[4mhttps://wandb.ai/nguyenthanhung1912-international-university-vnu-hcmc/SOICT\u001b[0m\n",
      "\u001b[34m\u001b[1mwandb\u001b[0m: 🚀 View run at \u001b[34m\u001b[4mhttps://wandb.ai/nguyenthanhung1912-international-university-vnu-hcmc/SOICT/runs/ckjkc2ky\u001b[0m\n",
      "Will run the code on one GPU.\n",
      "| distributed init (rank 0): env://\n",
      "[rank0]:[W722 14:15:10.699755317 ProcessGroupNCCL.cpp:4561] [PG ID 0 PG GUID 0 Rank 0]  using GPU 0 to perform barrier as devices used by this process are currently unknown. This can potentially cause a hang if this rank to GPU mapping is incorrect. Specify device_ids in barrier() to force use of a particular device, or call init_process_group() with a device_id.\n",
      "README.md: 10.5kB [00:00, 17.6MB/s]\n",
      "train-00000-of-00008.parquet: 100%|███████████| 490M/490M [00:01<00:00, 248MB/s]\n",
      "train-00001-of-00008.parquet: 100%|███████████| 464M/464M [00:01<00:00, 256MB/s]\n",
      "train-00002-of-00008.parquet: 100%|███████████| 472M/472M [00:01<00:00, 243MB/s]\n",
      "train-00003-of-00008.parquet: 100%|███████████| 464M/464M [00:01<00:00, 251MB/s]\n",
      "train-00004-of-00008.parquet: 100%|███████████| 475M/475M [00:01<00:00, 246MB/s]\n",
      "train-00005-of-00008.parquet: 100%|███████████| 470M/470M [00:02<00:00, 212MB/s]\n",
      "train-00006-of-00008.parquet: 100%|███████████| 478M/478M [00:01<00:00, 265MB/s]\n",
      "train-00007-of-00008.parquet: 100%|███████████| 486M/486M [00:01<00:00, 245MB/s]\n",
      "validation-00000-of-00003.parquet: 100%|██████| 423M/423M [00:01<00:00, 266MB/s]\n",
      "validation-00001-of-00003.parquet: 100%|██████| 413M/413M [00:01<00:00, 244MB/s]\n",
      "validation-00002-of-00003.parquet: 100%|██████| 426M/426M [00:01<00:00, 222MB/s]\n",
      "Generating train split: 100%|████| 75750/75750 [00:07<00:00, 9485.72 examples/s]\n",
      "Generating validation split: 100%|█| 25250/25250 [00:07<00:00, 3586.38 examples/\n"
     ]
    }
   ],
   "source": [
    "%cd HIER\n",
    "!CUDA_VISIBLE_DEVICES=0,1 python hier/train.py \\\n",
    "                            --lr 1e-4 --epochs 100 --batch_size 90 \\\n",
    "                            --clip_r 2.3 \\\n",
    "                            --hyp_c 0.0 --warmup_epochs 1 \\\n",
    "                            --weight_decay 1e-2 --use_fp16 True \\\n",
    "                            --clip_grad 1.0 --eval_freq 1 \\\n",
    "                            --lambda1 1 --topk 20 --mrg 0.1 \\\n",
    "                            --dataset Food101 --model resnet50 \\\n",
    "                            --IPC 2 --loss PA --emb 512 --bn_freeze True --use_lastnorm True \\\n",
    "                            --optimizer adamw --lr_decay 5 --lr_decay_gamma 0.5"
   ]
  }
 ],
 "metadata": {
  "kernelspec": {
   "display_name": "Python 3 (ipykernel)",
   "language": "python",
   "name": "python3"
  },
  "language_info": {
   "codemirror_mode": {
    "name": "ipython",
    "version": 3
   },
   "file_extension": ".py",
   "mimetype": "text/x-python",
   "name": "python",
   "nbconvert_exporter": "python",
   "pygments_lexer": "ipython3",
   "version": "3.11.13"
  }
 },
 "nbformat": 4,
 "nbformat_minor": 5
}
